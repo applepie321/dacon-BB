{
 "cells": [
  {
   "cell_type": "code",
   "execution_count": 10,
   "metadata": {},
   "outputs": [],
   "source": [
    "import pandas as pd\n",
    "import numpy as np\n",
    "import matplotlib.pyplot as plt\n",
    "import seaborn as sns\n",
    "from matplotlib.ticker import MaxNLocator\n",
    "\n",
    "from sklearn.model_selection import KFold\n",
    "from sklearn.pipeline import make_pipeline, Pipeline\n",
    "from sklearn.compose import ColumnTransformer\n",
    "from sklearn.preprocessing import StandardScaler\n",
    "from sklearn.ensemble import RandomForestRegressor, VotingRegressor\n",
    "from sklearn.linear_model import Ridge\n",
    "import sklearn.gaussian_process.kernels as kernels\n",
    "from sklearn.gaussian_process import GaussianProcessRegressor\n",
    "from sklearn.ensemble import GradientBoostingRegressor\n",
    "from sklearn.metrics import mean_squared_error\n",
    "from sklearn.inspection import PartialDependenceDisplay\n",
    "\n",
    "np.set_printoptions(linewidth=150, edgeitems=5)\n",
    "result_list = []"
   ]
  },
  {
   "cell_type": "code",
   "execution_count": 11,
   "metadata": {},
   "outputs": [
    {
     "name": "stdout",
     "output_type": "stream",
     "text": [
      "Length of train: 40118\n",
      "Length of test:  4986\n",
      "Duplicates in train:    0\n",
      "Duplicates in test:     0\n",
      "Duplicates in train and test together: 0\n",
      "\n"
     ]
    }
   ],
   "source": [
    "train = pd.read_csv(\"train.csv\", index_col='ID')\n",
    "test = pd.read_csv(\"test.csv\", index_col=\"ID\")\n",
    "sub = pd.read_csv(\"sample_submission.csv\")\n",
    "\n",
    "target = 'y'\n",
    "original_features = list(test.columns)\n",
    "\n",
    "print(f\"Length of train: {len(train)}\")\n",
    "print(f\"Length of test:  {len(test)}\")\n",
    "\n",
    "traindup = train[test.columns].duplicated().sum()\n",
    "print(f\"Duplicates in train: {traindup:4}\")\n",
    "print(f\"Duplicates in test:  {test.duplicated().sum():4}\")\n",
    "print(f\"Duplicates in train and test together: {pd.concat([train, test], axis=0)[test.columns].duplicated().sum()}\")\n",
    "print()"
   ]
  },
  {
   "cell_type": "code",
   "execution_count": 12,
   "metadata": {},
   "outputs": [],
   "source": [
    "# def analyze(train, test, col, ax):\n",
    "#     \"\"\"Plot a histogram for column col into axes ax\"\"\"\n",
    "#     bins = 40\n",
    "#     column = train[col]\n",
    "#     if col in test.columns:\n",
    "#         both = np.hstack([column.values, test[col].values])\n",
    "#     else:\n",
    "#         both = column\n",
    "#     uni = np.unique(column)\n",
    "#     unival = len(uni)\n",
    "#     if unival < bins:\n",
    "#         vc_tr = column.value_counts().sort_index() / len(train)\n",
    "#         if col in test.columns:\n",
    "#             vc_te = test[col].value_counts().sort_index() / len(test)\n",
    "#             ax.bar(vc_tr.index, vc_tr, width=6, label='train', alpha=0.5)\n",
    "#             ax.bar(vc_te.index, vc_te, width=6, label='test', alpha=0.5)\n",
    "#         else:\n",
    "#             ax.bar(vc_tr.index, vc_tr, label='train', alpha=0.5)\n",
    "#         if unival <= 12:\n",
    "#             ax.set_xticks(vc_tr.index)\n",
    "#         else:\n",
    "#             ax.xaxis.set_major_locator(MaxNLocator(integer=True)) # only integer labels\n",
    "#         ax.set_xlabel(col + (' (target)' if col == target else ''))\n",
    "#         ax.set_ylabel('density')\n",
    "#         ax.legend()\n",
    "#     else:\n",
    "#         hist_bins = np.linspace(both.min(), both.max(), bins+1)\n",
    "#         ax.hist(column, bins=hist_bins, density=True, label='train', alpha=0.5)\n",
    "#         if col in test.columns:\n",
    "#             ax.hist(test[col], bins=hist_bins, density=True, label='test', alpha=0.5)\n",
    "#         ax.set_xlabel(col + (' (target)' if col == target else ''))\n",
    "#         ax.set_ylabel('density')\n",
    "#         ax.legend()\n",
    "    \n",
    "# _, axs = plt.subplots(4, 3, figsize=(12, 10))\n",
    "# axs = axs.ravel()\n",
    "# for col, ax in zip(train.columns, axs):\n",
    "#     analyze(train, test, col, ax)\n",
    "# plt.tight_layout(h_pad=0.5, w_pad=0.5)\n",
    "# plt.show()"
   ]
  },
  {
   "cell_type": "code",
   "execution_count": 13,
   "metadata": {},
   "outputs": [],
   "source": [
    "# corr = train.corr()\n",
    "# plt.figure(figsize=(10,10))\n",
    "# sns.heatmap(corr, linewidth=0.1, fmt='.1f', \n",
    "#             annot=True, annot_kws={'size': 8}, \n",
    "#             cmap='PiYG', center=0)\n",
    "# plt.show()"
   ]
  },
  {
   "cell_type": "code",
   "execution_count": 14,
   "metadata": {},
   "outputs": [
    {
     "name": "stdout",
     "output_type": "stream",
     "text": [
      "Fold 0: trmse = 1.684   rmse = 1.618\n",
      "Fold 1: trmse = 1.682   rmse = 1.628\n",
      "Fold 2: trmse = 1.690   rmse = 1.594\n",
      "Fold 3: trmse = 1.605   rmse = 1.914\n",
      "Fold 4: trmse = 1.693   rmse = 1.582\n",
      "Average rmse: 1.667\n"
     ]
    }
   ],
   "source": [
    "def score_model(model, features_used, label=None):\n",
    "    \"\"\"Cross-validate a model with feature selection\"\"\"\n",
    "    score_list = []\n",
    "    oof = np.zeros_like(train[target])\n",
    "    kf = KFold()\n",
    "    for fold, (idx_tr, idx_va) in enumerate(kf.split(train)):\n",
    "        X_tr = train.iloc[idx_tr][features_used]\n",
    "        X_va = train.iloc[idx_va][features_used]\n",
    "        y_tr = train.iloc[idx_tr][target]\n",
    "        y_va = train.iloc[idx_va][target]\n",
    "        \n",
    "        \n",
    "        model.fit(X_tr, y_tr)\n",
    "        trmse = mean_squared_error(y_tr, model.predict(X_tr), squared=False)\n",
    "        y_va_pred = model.predict(X_va)\n",
    "        rmse = mean_squared_error(y_va, y_va_pred, squared=False)\n",
    "        if type(model) == Pipeline and type(model.steps[-1][1]) == GaussianProcessRegressor:\n",
    "            print('Kernel:', model.steps[-1][1].kernel_)\n",
    "        print(f\"Fold {fold}: trmse = {trmse:.3f}   rmse = {rmse:.3f}\")\n",
    "        oof[idx_va] = y_va_pred\n",
    "        score_list.append(rmse)\n",
    "\n",
    "    rmse = sum(score_list) / len(score_list)\n",
    "    print(f\"Average rmse: {rmse:.3f}\")\n",
    "    if label is not None:\n",
    "        global result_list\n",
    "        result_list.append((label, rmse, oof))\n",
    "\n",
    "score_model(model=make_pipeline(StandardScaler(), Ridge(70)),\n",
    "            features_used=original_features)"
   ]
  },
  {
   "cell_type": "code",
   "execution_count": 15,
   "metadata": {},
   "outputs": [
    {
     "name": "stdout",
     "output_type": "stream",
     "text": [
      "Fold 0: trmse = 1.684   rmse = 1.618\n",
      "Fold 1: trmse = 1.682   rmse = 1.628\n",
      "Fold 2: trmse = 1.690   rmse = 1.594\n",
      "Fold 3: trmse = 1.605   rmse = 1.914\n",
      "Fold 4: trmse = 1.693   rmse = 1.582\n",
      "Average rmse: 1.667\n",
      "Fold 0: trmse = 1.682   rmse = 1.614\n",
      "Fold 1: trmse = 1.679   rmse = 1.626\n",
      "Fold 2: trmse = 1.688   rmse = 1.590\n",
      "Fold 3: trmse = 1.602   rmse = 1.912\n",
      "Fold 4: trmse = 1.690   rmse = 1.580\n",
      "Average rmse: 1.665\n"
     ]
    }
   ],
   "source": [
    "for df in [train, test]:\n",
    "    df['clip_x_8'] = df.x_8.clip(None, 0.675)\n",
    "    \n",
    "score_model(model=make_pipeline(StandardScaler(), Ridge(70)),\n",
    "            features_used=original_features)\n",
    "\n",
    "for df in [train, test]:\n",
    "    df['clip_x_10'] = df.x_10.clip(None, 0.07)\n",
    "    \n",
    "score_model(model=make_pipeline(StandardScaler(), Ridge(30)),\n",
    "            features_used=test.columns)"
   ]
  },
  {
   "cell_type": "code",
   "execution_count": 16,
   "metadata": {},
   "outputs": [
    {
     "name": "stdout",
     "output_type": "stream",
     "text": [
      "Fold 0: trmse = 1.688   rmse = 1.617\n",
      "Fold 1: trmse = 1.684   rmse = 1.631\n",
      "Fold 2: trmse = 1.692   rmse = 1.598\n",
      "Fold 3: trmse = 1.607   rmse = 1.917\n",
      "Fold 4: trmse = 1.695   rmse = 1.585\n",
      "Average rmse: 1.669\n"
     ]
    }
   ],
   "source": [
    "ridge_features = ['x_1', 'x_2', 'clip_x_8', 'x_9', 'clip_x_10']\n",
    "score_model(model=make_pipeline(StandardScaler(), Ridge(30)),\n",
    "            features_used=ridge_features,\n",
    "            label='Ridge')"
   ]
  },
  {
   "cell_type": "code",
   "execution_count": 17,
   "metadata": {},
   "outputs": [],
   "source": [
    "gp_features = ['x_2', 'x_8', 'x_10']\n",
    "\n",
    "kernel = kernels.RBF(length_scale=[1] * (len(gp_features)-1) + [0.07], length_scale_bounds=(0.01, 10)) + kernels.WhiteKernel(0.55)\n",
    "score_model(model=make_pipeline(StandardScaler(), GaussianProcessRegressor(kernel=kernel, normalize_y=True, random_state=1)),\n",
    "            features_used=gp_features,\n",
    "            label='Gaussian Process') "
   ]
  },
  {
   "cell_type": "code",
   "execution_count": 18,
   "metadata": {},
   "outputs": [],
   "source": [
    "gbr_params = {'n_estimators': 550,\n",
    "              'max_depth': 4,\n",
    "              'learning_rate': 0.01,\n",
    "              'min_samples_leaf': 30 ,\n",
    "              'max_features': 3}\n",
    "# score_model(model=GradientBoostingRegressor(**gbr_params, random_state=1),\n",
    "#             features_used=original_features,\n",
    "#             label='GradientBoostingRegressor')"
   ]
  },
  {
   "cell_type": "code",
   "execution_count": 19,
   "metadata": {},
   "outputs": [
    {
     "name": "stdout",
     "output_type": "stream",
     "text": [
      "Fold 0: trmse = 1.628   rmse = 1.609\n",
      "Fold 1: trmse = 1.625   rmse = 1.624\n",
      "Fold 2: trmse = 1.633   rmse = 1.591\n",
      "Fold 3: trmse = 1.546   rmse = 1.913\n",
      "Fold 4: trmse = 1.634   rmse = 1.579\n",
      "Average rmse: 1.663\n"
     ]
    }
   ],
   "source": [
    "ensemble_model = VotingRegressor(\n",
    "    [('gb', make_pipeline(ColumnTransformer([('pt', 'passthrough', original_features)]),\n",
    "                          GradientBoostingRegressor(**gbr_params, random_state=1))),\n",
    "     ('rf', make_pipeline(ColumnTransformer([('pt', 'passthrough', original_features)]),\n",
    "                          RandomForestRegressor(n_estimators=300, min_samples_leaf=30,\n",
    "                                                random_state=1))),\n",
    "     ('ridge', make_pipeline(ColumnTransformer([('pt', 'passthrough', ridge_features)]),\n",
    "                             StandardScaler(),\n",
    "                             Ridge(30))),\n",
    "    ],\n",
    "    weights=[0.4, 0.3, 0.3])\n",
    "score_model(model=ensemble_model,\n",
    "            features_used=test.columns,\n",
    "            label='GradientBoostingRegressor + RF + Ridge')"
   ]
  },
  {
   "cell_type": "code",
   "execution_count": 23,
   "metadata": {},
   "outputs": [
    {
     "data": {
      "text/html": [
       "<div>\n",
       "<style scoped>\n",
       "    .dataframe tbody tr th:only-of-type {\n",
       "        vertical-align: middle;\n",
       "    }\n",
       "\n",
       "    .dataframe tbody tr th {\n",
       "        vertical-align: top;\n",
       "    }\n",
       "\n",
       "    .dataframe thead th {\n",
       "        text-align: right;\n",
       "    }\n",
       "</style>\n",
       "<table border=\"1\" class=\"dataframe\">\n",
       "  <thead>\n",
       "    <tr style=\"text-align: right;\">\n",
       "      <th></th>\n",
       "      <th>label</th>\n",
       "      <th>rmse</th>\n",
       "    </tr>\n",
       "  </thead>\n",
       "  <tbody>\n",
       "    <tr>\n",
       "      <th>1</th>\n",
       "      <td>GradientBoostingRegressor + RF + Ridge</td>\n",
       "      <td>1.663</td>\n",
       "    </tr>\n",
       "    <tr>\n",
       "      <th>0</th>\n",
       "      <td>Ridge</td>\n",
       "      <td>1.669</td>\n",
       "    </tr>\n",
       "  </tbody>\n",
       "</table>\n",
       "</div>"
      ],
      "text/plain": [
       "                                    label   rmse\n",
       "1  GradientBoostingRegressor + RF + Ridge  1.663\n",
       "0                                   Ridge  1.669"
      ]
     },
     "metadata": {},
     "output_type": "display_data"
    },
    {
     "data": {
      "image/png": "[encoded data removed]",
      "text/plain": [
       "<Figure size 600x60 with 1 Axes>"
      ]
     },
     "metadata": {},
     "output_type": "display_data"
    }
   ],
   "source": [
    "result_df = pd.DataFrame(result_list, columns=['label', 'rmse', 'oof'])\n",
    "result_df.drop_duplicates(subset='label', keep='last', inplace=True)\n",
    "result_df.sort_values('rmse', inplace=True)\n",
    "with pd.option_context(\"display.precision\", 3):\n",
    "    display(result_df[['label', 'rmse']])\n",
    "plt.figure(figsize=(6, len(result_df) * 0.3))\n",
    "plt.title('Cross-validation scores')\n",
    "plt.barh(np.arange(len(result_df)), result_df.rmse, color='lightgreen')\n",
    "plt.gca().invert_yaxis()\n",
    "plt.yticks(np.arange(len(result_df)), result_df.label)\n",
    "plt.xticks(np.linspace(12, 12.3, 4))\n",
    "plt.xlabel('RMSE')\n",
    "plt.xlim(12, 12.3)\n",
    "# plt.savefig('cv-scores.png', bbox_inches='tight')\n",
    "plt.show()"
   ]
  },
  {
   "cell_type": "code",
   "execution_count": 24,
   "metadata": {},
   "outputs": [
    {
     "data": {
      "text/plain": [
       "array([83.6, 82.2, 90.5, 91.2, 82.1, ..., 83.5, 91.3, 82.8, 82.9, 82.2])"
      ]
     },
     "execution_count": 24,
     "metadata": {},
     "output_type": "execute_result"
    }
   ],
   "source": [
    "ensemble_model.fit(train[test.columns], train[target])\n",
    "y_pred = ensemble_model.predict(test[test.columns])\n",
    "pd.Series(y_pred, index=test.index, name=target).to_csv(f\"submission.csv\")\n",
    "y_pred.round(1)"
   ]
  }
 ],
 "metadata": {
  "kernelspec": {
   "display_name": "base",
   "language": "python",
   "name": "python3"
  },
  "language_info": {
   "codemirror_mode": {
    "name": "ipython",
    "version": 3
   },
   "file_extension": ".py",
   "mimetype": "text/x-python",
   "name": "python",
   "nbconvert_exporter": "python",
   "pygments_lexer": "ipython3",
   "version": "3.11.7"
  }
 },
 "nbformat": 4,
 "nbformat_minor": 2
}
